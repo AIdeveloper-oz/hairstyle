{
 "cells": [
  {
   "cell_type": "code",
   "execution_count": 2,
   "metadata": {},
   "outputs": [],
   "source": [
    "import cv2"
   ]
  },
  {
   "cell_type": "markdown",
   "metadata": {},
   "source": [
    "# Extract images from video"
   ]
  },
  {
   "cell_type": "code",
   "execution_count": 4,
   "metadata": {},
   "outputs": [
    {
     "name": "stdout",
     "output_type": "stream",
     "text": [
      "Images extracted to  ./dataset/faceA\n",
      "Images extracted to  ./dataset/faceB\n"
     ]
    }
   ],
   "source": [
    "def face_detected(image):\n",
    "    try:\n",
    "        gray = cv2.cvtColor(image, cv2.COLOR_RGB2GRAY)\n",
    "    except:\n",
    "        print('Image corrupted')\n",
    "        return False\n",
    "    face_cascade = cv2.CascadeClassifier('./../detector_architectures/haarcascade_frontalface_default.xml')\n",
    "    faces = face_cascade.detectMultiScale(gray, 2)\n",
    "    return len(faces) == 1\n",
    "\n",
    "def extract_imgs(video_path, dst_path):\n",
    "    vidcap = cv2.VideoCapture(video_path)\n",
    "    success, img = vidcap.read()\n",
    "    count = 0\n",
    "    while success:\n",
    "        if face_detected(img):\n",
    "            cv2.imwrite(dst_path+'/frame%d.jpg'%count, img)\n",
    "            count += 1\n",
    "        success, img = vidcap.read()\n",
    "        \n",
    "    print(\"Images extracted to \", dst_path)\n",
    "    \n",
    "video_faceA = './videos/Zlatan.mp4'\n",
    "video_faceB = './videos/Alberto.mp4'\n",
    "\n",
    "\n",
    "extract_imgs(video_faceA, './dataset/faceA')\n",
    "extract_imgs(video_faceB, './dataset/faceB')"
   ]
  }
 ],
 "metadata": {
  "kernelspec": {
   "display_name": "Python 3",
   "language": "python",
   "name": "python3"
  },
  "language_info": {
   "codemirror_mode": {
    "name": "ipython",
    "version": 3
   },
   "file_extension": ".py",
   "mimetype": "text/x-python",
   "name": "python",
   "nbconvert_exporter": "python",
   "pygments_lexer": "ipython3",
   "version": "3.5.4"
  },
  "widgets": {
   "state": {},
   "version": "1.1.2"
  }
 },
 "nbformat": 4,
 "nbformat_minor": 2
}
